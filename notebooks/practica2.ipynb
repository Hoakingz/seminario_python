{
 "cells": [
  {
   "cell_type": "markdown",
   "metadata": {},
   "source": [
    "# 1. Analisis Zen de Python"
   ]
  },
  {
   "cell_type": "code",
   "execution_count": 4,
   "metadata": {},
   "outputs": [],
   "source": [
    "import sys\n",
    "import os\n",
    "\n",
    "ruta_proyecto = os.path.abspath(os.path.join(\"..\"))\n",
    "sys.path.append(ruta_proyecto) "
   ]
  },
  {
   "cell_type": "code",
   "execution_count": 5,
   "metadata": {},
   "outputs": [
    {
     "name": "stdout",
     "output_type": "stream",
     "text": [
      "The Zen of Python, by Tim Peters\n",
      "\n",
      "Beautiful is better than ugly.\n",
      "Explicit is better than implicit.\n",
      "Simple is better than complex.\n",
      "Complex is better than complicated.\n",
      "Flat is better than nested.\n",
      "Sparse is better than dense.\n",
      "Readability counts.\n",
      "Special cases aren't special enough to break the rules.\n",
      "Although practicality beats purity.\n",
      "Errors should never pass silently.\n",
      "Unless explicitly silenced.\n",
      "In the face of ambiguity, refuse the temptation to guess.\n",
      "There should be one-- and preferably only one --obvious way to do it.\n",
      "Although that way may not be obvious at first unless you're Dutch.\n",
      "Now is better than never.\n",
      "Although never is often better than *right* now.\n",
      "If the implementation is hard to explain, it's a bad idea.\n",
      "If the implementation is easy to explain, it may be a good idea.\n",
      "Namespaces are one honking great idea -- let's do more of those!\n"
     ]
    }
   ],
   "source": [
    "#importo el zen \n",
    "import this"
   ]
  },
  {
   "cell_type": "code",
   "execution_count": 6,
   "metadata": {},
   "outputs": [],
   "source": [
    "#copio el contenido del zen de una variable\n",
    "zen_text = \"\"\"\n",
    "Beautiful is better than ugly.\n",
    "Explicit is better than implicit.\n",
    "Simple is better than complex.\n",
    "Complex is better than complicated.\n",
    "Flat is better than nested.\n",
    "Sparse is better than dense.\n",
    "Readability counts.\n",
    "Special cases aren't special enough to break the rules.\n",
    "Although practicality beats purity.\n",
    "Errors should never pass silently.\n",
    "Unless explicitly silenced.\n",
    "In the face of ambiguity, refuse the temptation to guess.\n",
    "There should be one-- and preferably only one --obvious way to do it.\n",
    "Although that way may not be obvious at first unless you're Dutch.\n",
    "Now is better than never.\n",
    "Although never is often better than *right* now.\n",
    "If the implementation is hard to explain, it's a bad idea.\n",
    "If the implementation is easy to explain, it may be a good idea.\n",
    "Namespaces are one honking great idea -- let's do more of those!\"\"\""
   ]
  },
  {
   "cell_type": "code",
   "execution_count": 7,
   "metadata": {},
   "outputs": [
    {
     "name": "stdout",
     "output_type": "stream",
     "text": [
      "\n",
      "Explicit is better than implicit\n",
      "\n",
      "Although practicality beats purity\n",
      "\n",
      "Errors should never pass silently\n",
      "\n",
      "Unless explicitly silenced\n",
      "\n",
      "In the face of ambiguity, refuse the temptation to guess\n",
      "\n",
      "Although that way may not be obvious at first unless you're Dutch\n",
      "\n",
      "Although never is often better than *right* now\n",
      "\n",
      "If the implementation is hard to explain, it's a bad idea\n",
      "\n",
      "If the implementation is easy to explain, it may be a good idea\n"
     ]
    }
   ],
   "source": [
    "\n",
    "split_text_python = zen_text.split(\".\")\n",
    "for line in split_text_python:\n",
    "    word = line.split()\n",
    "    #verifico que empiezen con vocal las primeras palabras\n",
    "    if word[0].lower().startswith((\"a\",\"e\",\"i\",\"o\",\"u\")):\n",
    "        print(line)"
   ]
  },
  {
   "cell_type": "markdown",
   "metadata": {},
   "source": [
    "# 2. Titulo más largo"
   ]
  },
  {
   "cell_type": "code",
   "execution_count": 8,
   "metadata": {},
   "outputs": [
    {
     "name": "stdout",
     "output_type": "stream",
     "text": [
      "Jugando al nuevo FPS del momento con amigos\n"
     ]
    }
   ],
   "source": [
    "titles = [\n",
    " \"Speedrun de Super Mario en tiempo récord\",\n",
    "\"Charla sobre desarrollo de videojuegos\",\n",
    " \"Jugando al nuevo FPS del momento con amigos\",\n",
    " \"Música en vivo: improvisaciones al piano\"\n",
    "]\n",
    "max = 0\n",
    "for title in titles:\n",
    "    words_count = len(title.split())\n",
    "    if max < words_count:\n",
    "        max = words_count\n",
    "        title_max = title\n",
    "print(title_max)\n",
    "        \n"
   ]
  },
  {
   "cell_type": "markdown",
   "metadata": {},
   "source": [
    "# 3. Código de conducta"
   ]
  },
  {
   "cell_type": "code",
   "execution_count": 9,
   "metadata": {},
   "outputs": [
    {
     "name": "stdout",
     "output_type": "stream",
     "text": [
      "Respeta a los demás\n",
      " No se permiten insultos ni lenguaje\n",
      " ofensivo\n",
      "\n",
      " Evita el spam\n",
      " No publiques enlaces sospechosos o repetitivos\n",
      "\n",
      " No compartas información personal\n",
      "\n",
      " Usa los canales adecuados para cada tema\n",
      "\n",
      " Sigue las instrucciones de los moderadores\n",
      "\n"
     ]
    }
   ],
   "source": [
    "rules = \"\"\"Respeta a los demás. No se permiten insultos ni lenguaje\n",
    " ofensivo.\n",
    " Evita el spam. No publiques enlaces sospechosos o repetitivos.\n",
    " No compartas información personal.\n",
    " Usa los canales adecuados para cada tema.\n",
    " Sigue las instrucciones de los moderadores.\"\"\"\n",
    "\n",
    "\n",
    "#ingresa una palabra clave e imprime las reglas que la contengan\n",
    "key_word = input(\"Ingrese una palabra clave: \")\n",
    "for rule in rules.split(\".\"):\n",
    "    print(rule) if key_word.lower() in rule.lower() else None"
   ]
  },
  {
   "cell_type": "markdown",
   "metadata": {},
   "source": [
    "# 4. Validación de nombre de usuario"
   ]
  },
  {
   "cell_type": "code",
   "execution_count": null,
   "metadata": {},
   "outputs": [],
   "source": [
    "\n"
   ]
  },
  {
   "cell_type": "code",
   "execution_count": null,
   "metadata": {},
   "outputs": [],
   "source": [
    "\n"
   ]
  },
  {
   "cell_type": "markdown",
   "metadata": {},
   "source": [
    "#  5. Clasificación de velocidad de reacción en un juego"
   ]
  },
  {
   "cell_type": "code",
   "execution_count": 10,
   "metadata": {},
   "outputs": [],
   "source": [
    "time = input(\"ingrese su tiempo de reaccion en milisegundos: \")\n",
    "if (time.isdigit()):\n",
    "    time = int(time)\n",
    "    if (time in range(0, 201)):\n",
    "        print(\"Categoria: Rapido\")\n",
    "    elif (time in range(201, 501)):\n",
    "        print(\"Categoria: Normal\")\n",
    "    else:\n",
    "        print(\"Categoria: lento\")"
   ]
  },
  {
   "cell_type": "markdown",
   "metadata": {},
   "source": [
    "# 6. Análisis de descripciones de una plataforma de stream"
   ]
  },
  {
   "cell_type": "code",
   "execution_count": 11,
   "metadata": {},
   "outputs": [
    {
     "name": "stdout",
     "output_type": "stream",
     "text": [
      "charla: 4 \n",
      "entretenimiento: 1 \n",
      "música: 4\n"
     ]
    }
   ],
   "source": [
    "descriptions = [\n",
    "\"Streaming de música en vivo con covers y composiciones\",\n",
    "\"Charla interactiva con la audiencia sobre series y películas\",\n",
    "\"Jugamos a juegos retro y charlamos sobre su historia\",\n",
    "\"Exploramos la mejor música de los 80s y 90s\",\n",
    "\"Programa de entretenimiento con noticias y curiosidades del mundo gamer\",\n",
    "\"Sesión de charla con invitados especiales del mundo del streaming\",\n",
    "\"Música en directo con improvisaciones y peticiones del chat\",\n",
    "\"Un espacio para charlar relajada sobre tecnología y cultura digital\",\n",
    "\"Exploramos el impacto de la música en los videojuegos clásicos\"\n",
    "]\n",
    "\n",
    "charla = 0\n",
    "musica = 0\n",
    "entretenimiento = 0\n",
    "for description in descriptions:\n",
    "    if \"música\" in description.lower():\n",
    "        musica+=1\n",
    "    elif \"entretenimiento\" in description.lower():\n",
    "        entretenimiento+=1\n",
    "    elif \"charla\" in description.lower():\n",
    "        charla += 1\n",
    "\n",
    "print(f\"charla: {charla} \\nentretenimiento: {entretenimiento} \\nmúsica: {musica}\")\n"
   ]
  },
  {
   "cell_type": "markdown",
   "metadata": {},
   "source": [
    "# 7. Generador de códigos de descuento"
   ]
  },
  {
   "cell_type": "code",
   "execution_count": 12,
   "metadata": {},
   "outputs": [
    {
     "name": "stdout",
     "output_type": "stream",
     "text": [
      "codigo de descuento: --LIN2WZ8YCNPUQBL6Q48INAFJ5IR6\n"
     ]
    }
   ],
   "source": [
    "import random\n",
    "import string\n",
    "\n",
    "user = input(\"ingrese su nombre de usuario:\")\n",
    "date = input(\"ingrese su fecha de nacimiento:\")\n",
    "\n",
    "if (len(user) <= 15 and len(date) <= 15):\n",
    "    cadena = string.ascii_uppercase + string.digits\n",
    "    codigo = user.upper() + \"-\" \n",
    "    for i in date.split(\"-\"):\n",
    "        codigo += i\n",
    "    codigo += \"-\"\n",
    "    for i in random.choices(cadena, k= 30 - len(codigo)):\n",
    "        codigo+= i\n",
    "    print(f\"codigo de descuento: {codigo}\")\n",
    "\n"
   ]
  },
  {
   "cell_type": "markdown",
   "metadata": {},
   "source": [
    "# 8. Identificación de anagramas"
   ]
  },
  {
   "cell_type": "code",
   "execution_count": 13,
   "metadata": {},
   "outputs": [
    {
     "name": "stdout",
     "output_type": "stream",
     "text": [
      "es un anagrama\n"
     ]
    }
   ],
   "source": [
    "word1 = input(\"ingrese la primera palabra:\")\n",
    "word2 = input(\"ingrese la segunda palabra\")\n",
    "\n",
    "#  cuenta con numeros\n",
    "count_accerts = 0\n",
    "if (len(word1) == len(word2)):\n",
    "    for i in word2:\n",
    "        if i in word1:\n",
    "            count_accerts +=1\n",
    "    if (count_accerts == len(word1)):\n",
    "        print(\"es un anagrama\")\n",
    "    else:\n",
    "        print(\"no es un anagrama\")"
   ]
  },
  {
   "cell_type": "markdown",
   "metadata": {},
   "source": [
    "#  9. Limpieza de Datos para un Sistema de Clientes\n"
   ]
  },
  {
   "cell_type": "code",
   "execution_count": null,
   "metadata": {},
   "outputs": [],
   "source": []
  },
  {
   "cell_type": "markdown",
   "metadata": {},
   "source": [
    "# 10. Simulación de partidas y ranking en shooter online"
   ]
  },
  {
   "cell_type": "code",
   "execution_count": 4,
   "metadata": {},
   "outputs": [],
   "source": [
    "from src.funciones import *"
   ]
  },
  {
   "cell_type": "code",
   "execution_count": null,
   "metadata": {},
   "outputs": [
    {
     "name": "stdout",
     "output_type": "stream",
     "text": [
      "\n",
      " round 1 \n",
      "\n",
      " Shadow   2    1  True 8\n",
      " Viper   1    2  True 6\n",
      " Blaze   1    0  False 0\n",
      " Frost   0    1  False 0\n",
      " Reaper   1    1  False 0\n",
      "\n",
      " round 2 \n",
      "\n",
      " Frost   2    1  True 8\n",
      " Blaze   2    0  True 7\n",
      " Shadow   0    2  False 0\n",
      " Viper   1    1  False 0\n",
      " Reaper   0    1  False 0\n",
      "\n",
      " round 3 \n",
      "\n",
      " Blaze   2    2  True 9\n",
      " Viper   1    1  True 5\n",
      " Shadow   1    0  False 0\n",
      " Frost   0    1  False 0\n",
      " Reaper   1    1  False 0\n",
      "\n",
      " round 4 \n",
      "\n",
      " Frost   1    1  True 5\n",
      " Blaze   1    0  True 4\n",
      " Shadow   2    1  False 0\n",
      " Viper   0    2  False 0\n",
      " Reaper   1    1  False 0\n",
      "\n",
      " round 5 \n",
      "\n",
      " Viper   2    0  True 7\n",
      " Shadow   1    2  True 6\n",
      " Reaper   1    1  True 5\n",
      " Blaze   0    1  False 0\n",
      " Frost   1    1  False 0\n"
     ]
    }
   ],
   "source": [
    "\n",
    "\n",
    "rounds = [\n",
    "{\n",
    "'Shadow': {'kills': 2, 'assists': 1, 'deaths': True},\n",
    "'Blaze': {'kills': 1, 'assists': 0, 'deaths': False},\n",
    "'Viper': {'kills': 1, 'assists': 2, 'deaths': True},\n",
    "'Frost': {'kills': 0, 'assists': 1, 'deaths': False},\n",
    "'Reaper': {'kills': 1, 'assists': 1, 'deaths': False}\n",
    "},\n",
    "{\n",
    "'Shadow': {'kills': 0, 'assists': 2, 'deaths': False},\n",
    "'Blaze': {'kills': 2, 'assists': 0, 'deaths': True},\n",
    "'Viper': {'kills': 1, 'assists': 1, 'deaths': False},\n",
    "'Frost': {'kills': 2, 'assists': 1, 'deaths': True},\n",
    "'Reaper': {'kills': 0, 'assists': 1, 'deaths': False}\n",
    "},\n",
    "{\n",
    "'Shadow': {'kills': 1, 'assists': 0, 'deaths': False},\n",
    "'Blaze': {'kills': 2, 'assists': 2, 'deaths': True},\n",
    "'Viper': {'kills': 1, 'assists': 1, 'deaths': True},\n",
    "'Frost': {'kills': 0, 'assists': 1, 'deaths': False},\n",
    "'Reaper': {'kills': 1, 'assists': 1, 'deaths': False}\n",
    "},\n",
    "{\n",
    "'Shadow': {'kills': 2, 'assists': 1, 'deaths': False},\n",
    "'Blaze': {'kills': 1, 'assists': 0, 'deaths': True},\n",
    "'Viper': {'kills': 0, 'assists': 2, 'deaths': False},\n",
    "'Frost': {'kills': 1, 'assists': 1, 'deaths': True},\n",
    "'Reaper': {'kills': 1, 'assists': 1, 'deaths': False}\n",
    "},\n",
    "{\n",
    "'Shadow': {'kills': 1, 'assists': 2, 'deaths': True},\n",
    "'Blaze': {'kills': 0, 'assists': 1, 'deaths': False},\n",
    "'Viper': {'kills': 2, 'assists': 0, 'deaths': True},\n",
    "'Frost': {'kills': 1, 'assists': 1, 'deaths': False},\n",
    "'Reaper': {'kills': 1, 'assists': 1, 'deaths': True}\n",
    "}\n",
    "]\n",
    "\n",
    "mvps = {}\n",
    "ronda = 0\n",
    "# recorro los rounds \n",
    "for round in rounds:\n",
    "    sorted_players =  orden_de_jugadores(round)\n",
    "    ronda+=1\n",
    "\n",
    "    print(f\"\\n Ranking ronda {ronda} \\n\")\n",
    "\n",
    "    for player, points in sorted_players.items():\n",
    "        print(f\" {player}   {round[player][\"kills\"]}    {round[player][\"assists\"]}  {round[player][\"deaths\"]} {points}\")\n",
    "\n"
   ]
  }
 ],
 "metadata": {
  "kernelspec": {
   "display_name": "Python 3",
   "language": "python",
   "name": "python3"
  },
  "language_info": {
   "codemirror_mode": {
    "name": "ipython",
    "version": 3
   },
   "file_extension": ".py",
   "mimetype": "text/x-python",
   "name": "python",
   "nbconvert_exporter": "python",
   "pygments_lexer": "ipython3",
   "version": "3.12.9"
  }
 },
 "nbformat": 4,
 "nbformat_minor": 2
}
